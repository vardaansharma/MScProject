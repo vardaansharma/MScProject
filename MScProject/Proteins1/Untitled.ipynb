{
 "cells": [
  {
   "cell_type": "code",
   "execution_count": 1,
   "metadata": {},
   "outputs": [],
   "source": [
    "import mygene\n",
    "# import numpy\n",
    "# print(numpy.__file__)`\n",
    "import pandas as pd\n",
    "\n",
    "mg = mygene.MyGeneInfo()\n",
    "\n"
   ]
  },
  {
   "cell_type": "code",
   "execution_count": 2,
   "metadata": {},
   "outputs": [],
   "source": [
    "# mg = mygene.MyGeneInfo()\n",
    "\n",
    "# a = mg.query('GKAP3',species='human')\n",
    "# print(a)"
   ]
  },
  {
   "cell_type": "code",
   "execution_count": 3,
   "metadata": {},
   "outputs": [],
   "source": [
    "# print(a['hits'][0]['_id'])"
   ]
  },
  {
   "cell_type": "markdown",
   "metadata": {},
   "source": [
    "# 8. Krivinko_2018"
   ]
  },
  {
   "cell_type": "markdown",
   "metadata": {},
   "source": [
    "getting data"
   ]
  },
  {
   "cell_type": "code",
   "execution_count": 4,
   "metadata": {},
   "outputs": [],
   "source": [
    "location = '8.Krivinko_2018/'\n",
    "filename1 = 'Krivinko_2018_ADwithvswithoutpsy.xlsx'\n",
    "filename2 = 'Krivinko_2018_PSDEnriched_mice.xlsx'\n",
    "\n",
    "xl = pd.ExcelFile(location + filename1)\n",
    "# print(xl.sheet_names)\n",
    "df1 = xl.parse('Data')\n",
    "# df1.head()\n",
    "\n",
    "x2 = pd.ExcelFile(location + filename2)\n",
    "# print(x2.sheet_names)\n",
    "df2 = x2.parse('Data')\n",
    "# df2.head()\n"
   ]
  },
  {
   "cell_type": "markdown",
   "metadata": {},
   "source": [
    "mapping AD with vs without file"
   ]
  },
  {
   "cell_type": "code",
   "execution_count": 5,
   "metadata": {},
   "outputs": [
    {
     "name": "stdout",
     "output_type": "stream",
     "text": [
      "done\n"
     ]
    }
   ],
   "source": [
    "# df1.head()\n",
    "\n",
    "entrez_ids = []\n",
    "for i, x in df1['Protein Name'].iteritems():\n",
    "    q = mg.query(x,species='human')\n",
    "#     print(x)\n",
    "    if len(q['hits']):\n",
    "        e_id = q['hits'][0]['_id']\n",
    "    else:\n",
    "        e_id = '-'\n",
    "    entrez_ids.append(e_id)\n",
    "#     print(x, e_id)\n",
    "print('done')"
   ]
  },
  {
   "cell_type": "code",
   "execution_count": 6,
   "metadata": {},
   "outputs": [],
   "source": [
    "df1['Entrez_id'] = entrez_ids\n",
    "df1.head()\n",
    "writer = pd.ExcelWriter(location + 'Krivinko_2018_ADwithvswithoutpsy_mapped.xlsx')\n",
    "df1.to_excel(writer,sheet_name='Data',index=False)\n",
    "writer.save()"
   ]
  },
  {
   "cell_type": "markdown",
   "metadata": {},
   "source": [
    "mapping Enriched mice file"
   ]
  },
  {
   "cell_type": "code",
   "execution_count": 7,
   "metadata": {},
   "outputs": [
    {
     "data": {
      "text/html": [
       "<div>\n",
       "<style scoped>\n",
       "    .dataframe tbody tr th:only-of-type {\n",
       "        vertical-align: middle;\n",
       "    }\n",
       "\n",
       "    .dataframe tbody tr th {\n",
       "        vertical-align: top;\n",
       "    }\n",
       "\n",
       "    .dataframe thead th {\n",
       "        text-align: right;\n",
       "    }\n",
       "</style>\n",
       "<table border=\"1\" class=\"dataframe\">\n",
       "  <thead>\n",
       "    <tr style=\"text-align: right;\">\n",
       "      <th></th>\n",
       "      <th>Protein</th>\n",
       "      <th>PSD level : Homogenate level</th>\n",
       "    </tr>\n",
       "  </thead>\n",
       "  <tbody>\n",
       "    <tr>\n",
       "      <th>0</th>\n",
       "      <td>SRCIN1</td>\n",
       "      <td>7.176861</td>\n",
       "    </tr>\n",
       "    <tr>\n",
       "      <th>1</th>\n",
       "      <td>SYNGAP1</td>\n",
       "      <td>6.570652</td>\n",
       "    </tr>\n",
       "    <tr>\n",
       "      <th>2</th>\n",
       "      <td>GRIA3</td>\n",
       "      <td>6.371791</td>\n",
       "    </tr>\n",
       "    <tr>\n",
       "      <th>3</th>\n",
       "      <td>GRIA4</td>\n",
       "      <td>6.329123</td>\n",
       "    </tr>\n",
       "    <tr>\n",
       "      <th>4</th>\n",
       "      <td>HOMER1</td>\n",
       "      <td>6.318000</td>\n",
       "    </tr>\n",
       "  </tbody>\n",
       "</table>\n",
       "</div>"
      ],
      "text/plain": [
       "   Protein  PSD level : Homogenate level\n",
       "0   SRCIN1                      7.176861\n",
       "1  SYNGAP1                      6.570652\n",
       "2    GRIA3                      6.371791\n",
       "3    GRIA4                      6.329123\n",
       "4   HOMER1                      6.318000"
      ]
     },
     "execution_count": 7,
     "metadata": {},
     "output_type": "execute_result"
    }
   ],
   "source": [
    "df2.head()\n",
    "# print(df2['Protein'])"
   ]
  },
  {
   "cell_type": "code",
   "execution_count": 8,
   "metadata": {},
   "outputs": [
    {
     "name": "stdout",
     "output_type": "stream",
     "text": [
      "done\n"
     ]
    }
   ],
   "source": [
    "entrez_ids = []\n",
    "for i, x in df2['Protein'].iteritems():\n",
    "    q = mg.query(x,species='human')\n",
    "#     print(x)\n",
    "    if len(q['hits']):\n",
    "        e_id = q['hits'][0]['_id']\n",
    "    else:\n",
    "        e_id = '-'\n",
    "    entrez_ids.append(e_id)\n",
    "#     print(x, e_id)\n",
    "print('done')"
   ]
  },
  {
   "cell_type": "code",
   "execution_count": 9,
   "metadata": {},
   "outputs": [],
   "source": [
    "df2['Entrez_id'] = entrez_ids\n",
    "df2.head()\n",
    "# print(df2['Entrez_id'])\n",
    "writer = pd.ExcelWriter(location + 'Krivinko_2018_PSDEnriched_mice_mapped.xlsx')\n",
    "df2.to_excel(writer,sheet_name='Data',index=False)\n",
    "writer.save()"
   ]
  },
  {
   "cell_type": "markdown",
   "metadata": {},
   "source": [
    " "
   ]
  },
  {
   "cell_type": "markdown",
   "metadata": {},
   "source": [
    "# 7. Zolochevska_2018"
   ]
  },
  {
   "cell_type": "markdown",
   "metadata": {},
   "source": [
    "getting data"
   ]
  },
  {
   "cell_type": "code",
   "execution_count": 10,
   "metadata": {},
   "outputs": [
    {
     "name": "stdout",
     "output_type": "stream",
     "text": [
      "['Sheet1']\n"
     ]
    },
    {
     "data": {
      "text/html": [
       "<div>\n",
       "<style scoped>\n",
       "    .dataframe tbody tr th:only-of-type {\n",
       "        vertical-align: middle;\n",
       "    }\n",
       "\n",
       "    .dataframe tbody tr th {\n",
       "        vertical-align: top;\n",
       "    }\n",
       "\n",
       "    .dataframe thead th {\n",
       "        text-align: right;\n",
       "    }\n",
       "</style>\n",
       "<table border=\"1\" class=\"dataframe\">\n",
       "  <thead>\n",
       "    <tr style=\"text-align: right;\">\n",
       "      <th></th>\n",
       "      <th>Protein name</th>\n",
       "      <th>Gene ID</th>\n",
       "      <th>Accession Number</th>\n",
       "      <th>Theoretical pI</th>\n",
       "      <th>Measured pI</th>\n",
       "      <th>Theoretical Mw, kDa</th>\n",
       "      <th>Measured Mw, kDa</th>\n",
       "      <th>MS ID protein score</th>\n",
       "      <th>AD versus control</th>\n",
       "      <th>NDAN versus AD</th>\n",
       "      <th>NDAN versus control</th>\n",
       "    </tr>\n",
       "  </thead>\n",
       "  <tbody>\n",
       "    <tr>\n",
       "      <th>0</th>\n",
       "      <td>Actin, cytoplasmic 2</td>\n",
       "      <td>ACTG1</td>\n",
       "      <td>\\nP63261</td>\n",
       "      <td>5.31</td>\n",
       "      <td>6.31</td>\n",
       "      <td>42</td>\n",
       "      <td>15</td>\n",
       "      <td>78</td>\n",
       "      <td>-1.50</td>\n",
       "      <td>-1.49</td>\n",
       "      <td>-2.23</td>\n",
       "    </tr>\n",
       "    <tr>\n",
       "      <th>1</th>\n",
       "      <td>Annexin (Fragment)</td>\n",
       "      <td>ANXA2</td>\n",
       "      <td>H0YN42</td>\n",
       "      <td>5.56</td>\n",
       "      <td>8.03</td>\n",
       "      <td>29</td>\n",
       "      <td>30</td>\n",
       "      <td>141</td>\n",
       "      <td>1.55</td>\n",
       "      <td>1.83</td>\n",
       "      <td>2.85</td>\n",
       "    </tr>\n",
       "    <tr>\n",
       "      <th>2</th>\n",
       "      <td>Calcium/calmodulin-dependent protein kinase ty...</td>\n",
       "      <td>CAMK2A</td>\n",
       "      <td>Q9UQM7</td>\n",
       "      <td>6.61</td>\n",
       "      <td>5.84</td>\n",
       "      <td>54</td>\n",
       "      <td>17</td>\n",
       "      <td>115</td>\n",
       "      <td>1.43</td>\n",
       "      <td>1.98</td>\n",
       "      <td>2.83</td>\n",
       "    </tr>\n",
       "    <tr>\n",
       "      <th>3</th>\n",
       "      <td>Calreticulin</td>\n",
       "      <td>CALR</td>\n",
       "      <td>P27797</td>\n",
       "      <td>4.29</td>\n",
       "      <td>4.65</td>\n",
       "      <td>48</td>\n",
       "      <td>71</td>\n",
       "      <td>70</td>\n",
       "      <td>-1.15</td>\n",
       "      <td>-2.85</td>\n",
       "      <td>-3.27</td>\n",
       "    </tr>\n",
       "    <tr>\n",
       "      <th>4</th>\n",
       "      <td>Creatine kinase B-type</td>\n",
       "      <td>CKB</td>\n",
       "      <td>P12277</td>\n",
       "      <td>4.29</td>\n",
       "      <td>6.93</td>\n",
       "      <td>48</td>\n",
       "      <td>17</td>\n",
       "      <td>70</td>\n",
       "      <td>1.05</td>\n",
       "      <td>-1.98</td>\n",
       "      <td>-1.88</td>\n",
       "    </tr>\n",
       "  </tbody>\n",
       "</table>\n",
       "</div>"
      ],
      "text/plain": [
       "                                        Protein name Gene ID Accession Number  \\\n",
       "0                               Actin, cytoplasmic 2   ACTG1         \\nP63261   \n",
       "1                                 Annexin (Fragment)   ANXA2           H0YN42   \n",
       "2  Calcium/calmodulin-dependent protein kinase ty...  CAMK2A           Q9UQM7   \n",
       "3                                       Calreticulin    CALR           P27797   \n",
       "4                             Creatine kinase B-type     CKB           P12277   \n",
       "\n",
       "   Theoretical pI  Measured pI  Theoretical Mw, kDa  Measured Mw, kDa  \\\n",
       "0            5.31         6.31                   42                15   \n",
       "1            5.56         8.03                   29                30   \n",
       "2            6.61         5.84                   54                17   \n",
       "3            4.29         4.65                   48                71   \n",
       "4            4.29         6.93                   48                17   \n",
       "\n",
       "   MS ID protein score  AD versus control  NDAN versus AD  NDAN versus control  \n",
       "0                   78              -1.50           -1.49                -2.23  \n",
       "1                  141               1.55            1.83                 2.85  \n",
       "2                  115               1.43            1.98                 2.83  \n",
       "3                   70              -1.15           -2.85                -3.27  \n",
       "4                   70               1.05           -1.98                -1.88  "
      ]
     },
     "execution_count": 10,
     "metadata": {},
     "output_type": "execute_result"
    }
   ],
   "source": [
    "location = '7.Zolochevska_2018/'\n",
    "filename = '7.Zolochevshka2018_NDANvsAD_DE.xlsx'\n",
    "\n",
    "xl = pd.ExcelFile(location + filename)\n",
    "print(xl.sheet_names)\n",
    "df = xl.parse('Sheet1')\n",
    "df.head()"
   ]
  },
  {
   "cell_type": "code",
   "execution_count": 11,
   "metadata": {},
   "outputs": [
    {
     "name": "stdout",
     "output_type": "stream",
     "text": [
      "done\n"
     ]
    }
   ],
   "source": [
    "entrez_ids = []\n",
    "for i, x in df['Gene ID'].iteritems():\n",
    "    q = mg.query(x,species='human')\n",
    "#     print(x)\n",
    "    if len(q['hits']):\n",
    "        e_id = q['hits'][0]['_id']\n",
    "    else:\n",
    "        e_id = '-'\n",
    "    entrez_ids.append(e_id)\n",
    "#     print(x, e_id)\n",
    "print('done')"
   ]
  },
  {
   "cell_type": "code",
   "execution_count": 12,
   "metadata": {},
   "outputs": [
    {
     "name": "stdout",
     "output_type": "stream",
     "text": [
      "done\n"
     ]
    }
   ],
   "source": [
    "df['Entrez_id'] = entrez_ids\n",
    "df.head()\n",
    "# print(df2['Entrez_id'])\n",
    "writer = pd.ExcelWriter(location + '7.Zolochevshka2018_NDANvsAD_DE_mapped.xlsx')\n",
    "df.to_excel(writer,sheet_name='Data',index=False)\n",
    "writer.save()\n",
    "print('done')"
   ]
  }
 ],
 "metadata": {
  "kernelspec": {
   "display_name": "finalproject",
   "language": "python",
   "name": "finalproject"
  },
  "language_info": {
   "codemirror_mode": {
    "name": "ipython",
    "version": 3
   },
   "file_extension": ".py",
   "mimetype": "text/x-python",
   "name": "python",
   "nbconvert_exporter": "python",
   "pygments_lexer": "ipython3",
   "version": "3.7.3"
  }
 },
 "nbformat": 4,
 "nbformat_minor": 2
}
