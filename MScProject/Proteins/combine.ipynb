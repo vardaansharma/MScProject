{
 "cells": [
  {
   "cell_type": "code",
   "execution_count": 1,
   "metadata": {},
   "outputs": [],
   "source": [
    "import pandas as pd\n",
    "import math"
   ]
  },
  {
   "cell_type": "markdown",
   "metadata": {},
   "source": [
    "# Main lists"
   ]
  },
  {
   "cell_type": "code",
   "execution_count": 2,
   "metadata": {},
   "outputs": [
    {
     "data": {
      "text/html": [
       "<div>\n",
       "<style scoped>\n",
       "    .dataframe tbody tr th:only-of-type {\n",
       "        vertical-align: middle;\n",
       "    }\n",
       "\n",
       "    .dataframe tbody tr th {\n",
       "        vertical-align: top;\n",
       "    }\n",
       "\n",
       "    .dataframe thead th {\n",
       "        text-align: right;\n",
       "    }\n",
       "</style>\n",
       "<table border=\"1\" class=\"dataframe\">\n",
       "  <thead>\n",
       "    <tr style=\"text-align: right;\">\n",
       "      <th></th>\n",
       "      <th>Human.Entrez.ID</th>\n",
       "      <th>Human.Gene.Name</th>\n",
       "      <th>Human.Uniprot.ID</th>\n",
       "      <th>Volgyi_2017</th>\n",
       "      <th>Neuner_2017</th>\n",
       "      <th>Sweet_2016</th>\n",
       "      <th>Shi_2014</th>\n",
       "      <th>Chang_2015</th>\n",
       "      <th>Chang_2013</th>\n",
       "      <th>Zolochevska_2018</th>\n",
       "      <th>Krivinko_2018</th>\n",
       "    </tr>\n",
       "  </thead>\n",
       "  <tbody>\n",
       "  </tbody>\n",
       "</table>\n",
       "</div>"
      ],
      "text/plain": [
       "Empty DataFrame\n",
       "Columns: [Human.Entrez.ID, Human.Gene.Name, Human.Uniprot.ID, Volgyi_2017, Neuner_2017, Sweet_2016, Shi_2014, Chang_2015, Chang_2013, Zolochevska_2018, Krivinko_2018]\n",
       "Index: []"
      ]
     },
     "execution_count": 2,
     "metadata": {},
     "output_type": "execute_result"
    }
   ],
   "source": [
    "Complete_list = pd.DataFrame(columns=['Human.Entrez.ID','Human.Gene.Name','Human.Uniprot.ID','Volgyi_2017','Neuner_2017','Sweet_2016','Shi_2014','Chang_2015','Chang_2013','Zolochevska_2018','Krivinko_2018'])\n",
    "Complete_list.head()"
   ]
  },
  {
   "cell_type": "markdown",
   "metadata": {},
   "source": [
    "### function to check a csv for entrez ids, check if they exist in the main complete list, add tag for the right paper if it does, else add the new protein and add the tag for it "
   ]
  },
  {
   "cell_type": "markdown",
   "metadata": {},
   "source": [
    "just the pseudocode,\n",
    "\n",
    "function to make the paper for that 1\n",
    "\n",
    "function to deal with each id\n",
    "\n",
    "function:\n",
    "    open the file\n",
    "    go through the column with entrez ids\n",
    "        for each id\n",
    "            check if it exists in the main\n",
    "                if it does: make the paper for that 1\n",
    "                if it doenst: add the protein and make the paper for that 1\n",
    "                "
   ]
  },
  {
   "cell_type": "code",
   "execution_count": 3,
   "metadata": {},
   "outputs": [],
   "source": [
    "def tag_id(eid,Paper, cl):\n",
    "#     print(cl)\n",
    "#     print(type(cl))\n",
    "    cl.loc[cl['Human.Entrez.ID'] == eid, [Paper]] = 1\n",
    "    return cl\n",
    "def Add_protein_to_main(eid,gn,uid, cl):\n",
    "    d = '0'\n",
    "    c = cl.append({'Human.Entrez.ID':eid,\n",
    "                          'Human.Gene.Name':gn,\n",
    "                          'Human.Uniprot.ID':uid,\n",
    "                          'Volgyi_2017': d,\n",
    "                          'Neuner_2017': d,\n",
    "                          'Sweet_2016': d,\n",
    "                          'Shi_2014': d,\n",
    "                          'Chang_2015': d,\n",
    "                          'Chang_2013': d,\n",
    "                          'Zolochevska_2018': d,\n",
    "                          'Krivinko_2018': d},ignore_index=True)\n",
    "    return c\n",
    "\n",
    "def tag_protein_in_list(entrez_id, gene_name, uniprot_id, Paper, cl):\n",
    "#     print('inside')\n",
    "#     print(cl['Human.Entrez.ID'])\n",
    "#     print(entrez_id)\n",
    "#     print(entrez_id in cl['Human.Entrez.ID'].unique())\n",
    "    if(entrez_id in cl['Human.Entrez.ID'].unique()):\n",
    "#         print('inside1')\n",
    "        cl = tag_id(entrez_id,Paper,cl)\n",
    "#         return cl\n",
    "    else:\n",
    "        cl = Add_protein_to_main(entrez_id, gene_name, uniprot_id,cl)\n",
    "#         print(cl)\n",
    "#         print(type(cl))\n",
    "        cl = tag_id(entrez_id,Paper,cl)\n",
    "#         return cl\n",
    "    return cl\n",
    "\n",
    "def add_to_main(df, Paper, entrezid_col_name, genename_col_name, uniprotid_col_name, Filename='', Filetype=''):\n",
    "#     proteins = df[entrezid_col_name]\n",
    "    for i, row in df.iterrows():\n",
    "        tag_protein_in_list(row[entrezid_col_name],row[genename_col_name],row[uniprotid_col_name],Paper,Complete_list)\n",
    "    \n",
    "#     for i, x in df[entrezid_col_name].iteritems():\n",
    "#         add_protein_to_List()"
   ]
  },
  {
   "cell_type": "code",
   "execution_count": 4,
   "metadata": {},
   "outputs": [],
   "source": [
    "# Complete_list = pd.DataFrame(columns=['Human.Entrez.ID','Human.Gene.Name','Human.Uniprot.ID','Volgyi_2017','Neuner_2017','Sweet_2016','Shi_2014','Chang_2015','Chang_2013','Zolochevska_2018','Krivinko_2018'])\n",
    "\n",
    "\n",
    "# Complete_list = Add_protein_to_main('atged','add','asd', Complete_list)\n",
    "# Complete_list = aComplete_list \n",
    "# .head()\n",
    "# d = '0'\n",
    "# eid = 'asd'\n",
    "# gn = 'asdg'\n",
    "# uid = 'asdff'\n",
    "# Complete_list.append({'Human.Entrez.ID':eid,'Human.Gene.Name':gn,'Human.Uniprot.ID':uid,\n",
    "#                           'Volgyi_2017': d,\n",
    "#                           'Neuner_2017': d,\n",
    "#                           'Sweet_2016': d,\n",
    "#                           'Shi_2014': d,\n",
    "#                           'Chang_2015': d,\n",
    "#                           'Chang_2013': d,\n",
    "#                           'Zolochevska_2018': d,\n",
    "#                           'Krivinko_2018': d},ignore_index=True)\n",
    "\n",
    "# tag_id('atged','Volgyi_2017',Complete_list)\n",
    "# Complete_list.loc[Complete_list['Human.Entrez.ID'] == 'atged', ['Volgyi_2017']] = 0\n",
    "# Complete_list = tag_protein_in_list('qwe','qwe','qwe','Neuner_2017',Complete_list)\n",
    "# Complete_list = tag_protein_in_list('qwe','qwe','qwe','Volgyi_2017',Complete_list)\n",
    "# Complete_list.head()\n",
    "\n"
   ]
  },
  {
   "cell_type": "code",
   "execution_count": 5,
   "metadata": {},
   "outputs": [],
   "source": [
    "# TEST\n",
    "\n",
    "# prac_df = pd.DataFrame(columns=['ent','uni','gn'])\n",
    "# toadd = [pd.Series(['qwee','sd','asdr'], index=prac_df.columns),\n",
    "#          pd.Series(['qaz','ifsugh','huh'],index=prac_df.columns)\n",
    "#         ]\n",
    "# prac_df = prac_df.append(toadd,ignore_index=True)\n",
    "\n",
    "# prac_df2 = pd.DataFrame(columns=['ent','uni','gn'])\n",
    "# toadd2 = [pd.Series(['qwee','sd','asdr'], index=prac_df.columns),\n",
    "#          pd.Series(['qa2z3','ifsugh','huh'],index=prac_df.columns)\n",
    "#         ]\n",
    "# prac_df2 = prac_df.append(toadd2,ignore_index=True)\n",
    "\n",
    "# prac_df.head()\n",
    "# # add_to_main(prac_df,'Sweet_2016','ent','gn','uni')\n",
    "# for i, row in prac_df2.iterrows():\n",
    "#     Complete_list = tag_protein_in_list(row['ent'],row['gn'],row['uni'],'Shi_2014',Complete_list)\n",
    "\n",
    "\n",
    "# Complete_list.head()\n",
    "# prac_df2.head()"
   ]
  },
  {
   "cell_type": "markdown",
   "metadata": {},
   "source": [
    "# Chang_2015"
   ]
  },
  {
   "cell_type": "code",
   "execution_count": 6,
   "metadata": {},
   "outputs": [],
   "source": [
    "# reading the files \n",
    "location_chang_2015 = '5.Chang_2015/'\n",
    "filenamec15 = 'PMID_25958317_TableS2_mapped.csv'\n",
    "\n",
    "coltypes = {\n",
    "    'rat.entrez.ID' : str,\n",
    "    'mouse.entrez.ID' : str,\n",
    "    'human.entez.ID' : str\n",
    "}\n",
    "c15 = pd.read_csv(location_chang_2015 + filenamec15,delimiter='\\t',dtype=coltypes)\n",
    "c15.head(5)\n",
    "\n",
    "for i, row in c15.iterrows():\n",
    "    if(math.isnan(float(row['human.entez.ID'])) == False):\n",
    "#         print(row['human.entez.ID'])\n",
    "        Complete_list = tag_protein_in_list(row['human.entez.ID'],row['human.gene.name'],row['human.uniprot'],'Chang_2015',Complete_list)"
   ]
  },
  {
   "cell_type": "markdown",
   "metadata": {},
   "source": [
    "# Chang_2013"
   ]
  },
  {
   "cell_type": "code",
   "execution_count": 7,
   "metadata": {},
   "outputs": [],
   "source": [
    "location_chang_2013 = '6.Chang_2013/'\n",
    "filenamec13_1 = 'Chang_2013_DES_1_mapped.xlsx'\n",
    "filenamec13_2 = 'CHANG_2013_DES_mapped.xlsx'\n",
    "\n",
    "coltypes2 = {\n",
    "#     'rat.entrez.ID' : str,\n",
    "    'Gene name' : str,\n",
    "    'Entrez ID Human' : str\n",
    "}\n",
    "c13_1 = pd.read_excel(location_chang_2013 + filenamec13_1,dtype=coltypes2)\n",
    "c13_2 = pd.read_excel(location_chang_2013 + filenamec13_2,dtype=coltypes2)\n",
    "\n",
    "for i, row in c13_1.iterrows():\n",
    "    if(math.isnan(float(row['Entrez ID Human'])) == False):\n",
    "        Complete_list = tag_protein_in_list(row['Entrez ID Human'],row['Gene name'],'','Chang_2013',Complete_list)\n",
    "        \n",
    "# c13_2.head()\n",
    "\n",
    "for i, row in c13_2.iterrows():\n",
    "    if(math.isnan(float(row['Entrez ID Human'])) == False):\n",
    "        Complete_list = tag_protein_in_list(row['Entrez ID Human'],row['Gene Name'],'','Chang_2013',Complete_list)\n"
   ]
  },
  {
   "cell_type": "markdown",
   "metadata": {},
   "source": [
    "# Volgyi_2017"
   ]
  },
  {
   "cell_type": "code",
   "execution_count": 8,
   "metadata": {},
   "outputs": [],
   "source": [
    "location_vol_2017 = '1.Völgyi_2017/'\n",
    "filenamev17_1 = 'Volgyi_2018_AD_increased_mapped.xlsx'\n",
    "filenamev17_2 = 'Volgyi_AD_deecreased_mapped.xlsx'\n",
    "\n",
    "colnames = {\n",
    "    'Entrez ID Human': str,\n",
    "    'Gene': str,\n",
    "    'Protein ID': str\n",
    "}\n",
    "v12_1 = pd.read_excel(location_vol_2017 + filenamev17_1,skiprows=[0,2],dtype=colnames)\n",
    "v12_2 = pd.read_excel(location_vol_2017 + filenamev17_2,dtype=colnames)\n",
    "\n",
    "for i, row in v12_1.iterrows():\n",
    "    if(math.isnan(float(row['Entrez ID Human'])) == False):\n",
    "        Complete_list = tag_protein_in_list(row['Entrez ID Human'],row['Gene'],'','Volgyi_2017',Complete_list)\n",
    "\n",
    "for i, row in v12_2.iterrows():\n",
    "    if(math.isnan(float(row['Entrez ID Human'])) == False):\n",
    "        Complete_list = tag_protein_in_list(row['Entrez ID Human'],row['Protein ID'],'','Volgyi_2017',Complete_list)\n",
    "# v12_2.head()\n",
    "# print(v12_1.columns)"
   ]
  },
  {
   "cell_type": "code",
   "execution_count": 9,
   "metadata": {},
   "outputs": [
    {
     "name": "stdout",
     "output_type": "stream",
     "text": [
      "1644\n"
     ]
    },
    {
     "data": {
      "text/plain": [
       "str"
      ]
     },
     "execution_count": 9,
     "metadata": {},
     "output_type": "execute_result"
    }
   ],
   "source": [
    "print(len(Complete_list))\n",
    "\n",
    "type(v12_1['Entrez ID Human'][0])"
   ]
  },
  {
   "cell_type": "markdown",
   "metadata": {},
   "source": [
    "# Neuner_2017\n",
    "## check filename"
   ]
  },
  {
   "cell_type": "code",
   "execution_count": 10,
   "metadata": {},
   "outputs": [],
   "source": [
    "location_neu_2017 = '2.Neuner_2017/'\n",
    "filename_1 = '1-s2.0-S0166432816303564-mmc2_mapped.xlsx'\n",
    "\n",
    "cols = {\n",
    "    'Entrez ID Human': str,\n",
    "    'Gene Name Human': str\n",
    "}\n",
    "\n",
    "n17 = pd.read_excel(location_neu_2017 + filename_1,dtype=cols)\n",
    "\n",
    "for i, row in n17.iterrows():\n",
    "    if(math.isnan(float(row['Entrez ID Human'])) == False):\n",
    "        Complete_list = tag_protein_in_list(row['Entrez ID Human'],row['Gene Name Human'],'','Neuner_2017',Complete_list)\n",
    "# n17.head()"
   ]
  },
  {
   "cell_type": "code",
   "execution_count": 11,
   "metadata": {},
   "outputs": [
    {
     "data": {
      "text/plain": [
       "str"
      ]
     },
     "execution_count": 11,
     "metadata": {},
     "output_type": "execute_result"
    }
   ],
   "source": [
    "filename_1\n",
    "n17.head()\n",
    "type(n17['Entrez ID Human'][0])"
   ]
  },
  {
   "cell_type": "markdown",
   "metadata": {},
   "source": [
    "# Sweet_2016"
   ]
  },
  {
   "cell_type": "code",
   "execution_count": 12,
   "metadata": {},
   "outputs": [],
   "source": [
    "location_sweet_2016 = '3.Sweet_2016/'\n",
    "filename1 = 'mcp.M115.056580-7_mapped.xlsx'\n",
    "filename2 = 'mcp.M115.056580-9._mapped.xlsx'\n",
    "\n",
    "colnames = {\n",
    "    'Entrez ID Human': str,\n",
    "    'Gene Name': str,\n",
    "    'Gene name': str\n",
    "}\n",
    "\n",
    "s16_1 = pd.read_excel(location_sweet_2016 + filename1,dtype=colnames)\n",
    "s16_2 = pd.read_excel(location_sweet_2016 + filename2,skiprows=[0],dtype=colnames)\n",
    "\n",
    "for i,row in s16_1.iterrows():\n",
    "    if(math.isnan(float(row['Entrez ID Human'])) == False):\n",
    "        Complete_list = tag_protein_in_list(row['Entrez ID Human'],row['Gene Name'],'','Sweet_2016',Complete_list)\n",
    "\n",
    "for i,row in s16_2.iterrows():\n",
    "    if(math.isnan(float(row['Entrez ID Human'])) == False):\n",
    "        Complete_list = tag_protein_in_list(row['Entrez ID Human'],row['Gene name'],'','Sweet_2016',Complete_list)\n",
    "\n",
    "# s16_1.head()"
   ]
  },
  {
   "cell_type": "code",
   "execution_count": 13,
   "metadata": {},
   "outputs": [
    {
     "data": {
      "text/plain": [
       "str"
      ]
     },
     "execution_count": 13,
     "metadata": {},
     "output_type": "execute_result"
    }
   ],
   "source": [
    "s16_1.head()\n",
    "type(s16_1['Entrez ID Human'][0])"
   ]
  },
  {
   "cell_type": "markdown",
   "metadata": {},
   "source": [
    "# Shi_2014"
   ]
  },
  {
   "cell_type": "code",
   "execution_count": 14,
   "metadata": {},
   "outputs": [],
   "source": [
    "location_shi_2014 = '4.Shi_2014/'\n",
    "filename = 'Proteins_with_names_and_GeneSymbols_mapped.xlsx'\n",
    "\n",
    "cols = {\n",
    "    'EntrezID Human': str,\n",
    "    'Gene name Himan': str\n",
    "}\n",
    "\n",
    "s14 = pd.read_excel(location_shi_2014 + filename,dtype=cols)\n",
    "\n",
    "for i,row in s14.iterrows():\n",
    "    if(math.isnan(float(row['EntrezID Human'])) == False):\n",
    "        Complete_list = tag_protein_in_list(row['EntrezID Human'],row['Gene name Himan'],'','Shi_2014',Complete_list)\n",
    "        \n",
    "# s14.head()\n",
    "# type(s14['EntrezID Human'][4])\n",
    "# s14.columns"
   ]
  },
  {
   "cell_type": "markdown",
   "metadata": {},
   "source": [
    "# Zolochevska_2018"
   ]
  },
  {
   "cell_type": "code",
   "execution_count": 15,
   "metadata": {},
   "outputs": [],
   "source": [
    "location = '7.Zolochevska_2018/'\n",
    "filename = '7.Zolochevshka2018_NDANvsAD_DE_mapped_OS.xlsx'\n",
    "\n",
    "cols = {\n",
    "    'Gene ID': str,\n",
    "    'Entrez_id': str\n",
    "}\n",
    "\n",
    "z18 = pd.read_excel(location + filename,dtype=cols)\n",
    "\n",
    "for i,row in z18.iterrows():\n",
    "    if(math.isnan(float(row['Entrez_id'])) == False):\n",
    "        Complete_list = tag_protein_in_list(row['Entrez_id'],row['Gene ID'],'','Zolochevska_2018',Complete_list)\n"
   ]
  },
  {
   "cell_type": "markdown",
   "metadata": {},
   "source": [
    "# Krivinko_2018"
   ]
  },
  {
   "cell_type": "code",
   "execution_count": 16,
   "metadata": {},
   "outputs": [],
   "source": [
    "location = '8.Krivinko_2018/'\n",
    "filename = 'Krivinko_2018_ADwithvswithoutpsy_mapped_OS.xlsx'\n",
    "filename2 = 'Krivinko_2018_PSDEnriched_mice_mapped_OS.xlsx'\n",
    "\n",
    "cols = {\n",
    "    'Entrez_id':str,\n",
    "    'Gene name':str\n",
    "}\n",
    "\n",
    "k18_1 = pd.read_excel(location + filename,dtype=cols)\n",
    "k18_2 = pd.read_excel(location + filename2,dtype=cols)\n",
    "\n",
    "for i,row in k18_1.iterrows():\n",
    "    if(math.isnan(float(row['Entrez_id'])) == False):\n",
    "        Complete_list = tag_protein_in_list(row['Entrez_id'],row['Gene name'],'','Krivinko_2018',Complete_list)\n",
    "\n",
    "for i,row in k18_2.iterrows():\n",
    "    if(math.isnan(float(row['Entrez_id'])) == False):\n",
    "        Complete_list = tag_protein_in_list(row['Entrez_id'],row['Gene name'],'','Krivinko_2018',Complete_list)\n",
    "# k18_2.head()"
   ]
  },
  {
   "cell_type": "code",
   "execution_count": 21,
   "metadata": {},
   "outputs": [
    {
     "name": "stdout",
     "output_type": "stream",
     "text": [
      "1736\n"
     ]
    },
    {
     "data": {
      "text/html": [
       "<div>\n",
       "<style scoped>\n",
       "    .dataframe tbody tr th:only-of-type {\n",
       "        vertical-align: middle;\n",
       "    }\n",
       "\n",
       "    .dataframe tbody tr th {\n",
       "        vertical-align: top;\n",
       "    }\n",
       "\n",
       "    .dataframe thead th {\n",
       "        text-align: right;\n",
       "    }\n",
       "</style>\n",
       "<table border=\"1\" class=\"dataframe\">\n",
       "  <thead>\n",
       "    <tr style=\"text-align: right;\">\n",
       "      <th></th>\n",
       "      <th>Human.Entrez.ID</th>\n",
       "      <th>Human.Gene.Name</th>\n",
       "      <th>Human.Uniprot.ID</th>\n",
       "      <th>Volgyi_2017</th>\n",
       "      <th>Neuner_2017</th>\n",
       "      <th>Sweet_2016</th>\n",
       "      <th>Shi_2014</th>\n",
       "      <th>Chang_2015</th>\n",
       "      <th>Chang_2013</th>\n",
       "      <th>Zolochevska_2018</th>\n",
       "      <th>Krivinko_2018</th>\n",
       "    </tr>\n",
       "  </thead>\n",
       "  <tbody>\n",
       "    <tr>\n",
       "      <th>1684</th>\n",
       "      <td>11069</td>\n",
       "      <td>RAPGEF4</td>\n",
       "      <td></td>\n",
       "      <td>0</td>\n",
       "      <td>0</td>\n",
       "      <td>1</td>\n",
       "      <td>0</td>\n",
       "      <td>0</td>\n",
       "      <td>0</td>\n",
       "      <td>0</td>\n",
       "      <td>1</td>\n",
       "    </tr>\n",
       "  </tbody>\n",
       "</table>\n",
       "</div>"
      ],
      "text/plain": [
       "     Human.Entrez.ID Human.Gene.Name Human.Uniprot.ID Volgyi_2017 Neuner_2017  \\\n",
       "1684           11069         RAPGEF4                            0           0   \n",
       "\n",
       "     Sweet_2016 Shi_2014 Chang_2015 Chang_2013 Zolochevska_2018 Krivinko_2018  \n",
       "1684          1        0          0          0                0             1  "
      ]
     },
     "execution_count": 21,
     "metadata": {},
     "output_type": "execute_result"
    }
   ],
   "source": [
    "# Complete_list.head()\n",
    "# print(len(Complete_list))\n",
    "# Complete_list.tail(200)\n",
    "Complete_list.to_excel(\"try2.xlsx\",sheet_name=\"s1\")\n",
    "p = len(Complete_list['Human.Entrez.ID'].tolist())\n",
    "asd = Complete_list['Human.Entrez.ID'].tolist()\n",
    "qwe = set(asd)\n",
    "print(p)\n",
    "len(qwe)\n",
    "Complete_list.loc[Complete_list['Human.Entrez.ID'] == '11069']\n",
    "\n"
   ]
  }
 ],
 "metadata": {
  "kernelspec": {
   "display_name": "finalproject",
   "language": "python",
   "name": "finalproject"
  },
  "language_info": {
   "codemirror_mode": {
    "name": "ipython",
    "version": 3
   },
   "file_extension": ".py",
   "mimetype": "text/x-python",
   "name": "python",
   "nbconvert_exporter": "python",
   "pygments_lexer": "ipython3",
   "version": "3.7.3"
  }
 },
 "nbformat": 4,
 "nbformat_minor": 2
}
