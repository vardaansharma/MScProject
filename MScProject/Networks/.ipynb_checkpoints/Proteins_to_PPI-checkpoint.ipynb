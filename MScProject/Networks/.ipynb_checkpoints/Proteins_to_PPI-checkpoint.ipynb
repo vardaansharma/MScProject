{
 "cells": [
  {
   "cell_type": "code",
   "execution_count": 2,
   "metadata": {},
   "outputs": [],
   "source": [
    "import pandas as pd\n",
    "import networkx as nx\n",
    "import matplotlib.pyplot as plt"
   ]
  },
  {
   "cell_type": "code",
   "execution_count": 23,
   "metadata": {},
   "outputs": [],
   "source": [
    "protein_list = pd.read_excel('Combined.xlsx',index_col=0,dtype={\n",
    "    'Human.Entrez.ID':str\n",
    "})\n",
    "protein_list.head()\n",
    "Proteins = protein_list['Human.Entrez.ID']\n",
    "\n",
    "protein_list.to_csv('Combined.csv',index=False)\n",
    "# print(type(Proteins[0]))\n",
    "# protein_list.head()\n",
    "# print(type(Proteins))"
   ]
  },
  {
   "cell_type": "code",
   "execution_count": 59,
   "metadata": {},
   "outputs": [
    {
     "name": "stdout",
     "output_type": "stream",
     "text": [
      "270993.0\n",
      "270993.0\n"
     ]
    }
   ],
   "source": [
    "loc = 'General PPI data/'\n",
    "PPI_data_file = 'PPI_HUMAN_FilteredOut.txt'\n",
    "# PPI_data_file2 = 'Synaptosome_Published_April19.txt'\n",
    "\n",
    "PPIdata = pd.read_csv(loc+PPI_data_file,sep='\\t')\n",
    "PPIdata.head()\n",
    "print(PPIdata.size/7)\n",
    "\n",
    "PPI_data = PPIdata[PPIdata.columns[[0,1]]]\n",
    "PPI_data.head()\n",
    "print(PPI_data.size/2)"
   ]
  },
  {
   "cell_type": "code",
   "execution_count": 110,
   "metadata": {},
   "outputs": [
    {
     "name": "stdout",
     "output_type": "stream",
     "text": [
      "12842 12754 15675 1926\n",
      "1835\n"
     ]
    }
   ],
   "source": [
    "l1 = PPIdata['entA'].tolist()\n",
    "# print(l1)\n",
    "\n",
    "l2 = PPIdata['entB'].tolist()\n",
    "\n",
    "l1 = list(set(l1))\n",
    "l2 = list(set(l2))\n",
    "\n",
    "li = l1+l2\n",
    "li = list(set(li))\n",
    "print(len(l1),len(l2),len(li), len(Proteins))\n",
    "\n",
    "# print(len(( set(li) - set(Proteins) )))\n",
    "# print(len(set(li)))\n",
    "\n",
    "counter = 0\n",
    "for i in range(len(Proteins)):\n",
    "#     print(type(Proteins[i]),type(li[i]))\n",
    "    if( int(Proteins[i]) in li):\n",
    "        counter = counter+1\n",
    "print(counter)"
   ]
  },
  {
   "cell_type": "code",
   "execution_count": 13,
   "metadata": {},
   "outputs": [
    {
     "data": {
      "text/html": [
       "<div>\n",
       "<style scoped>\n",
       "    .dataframe tbody tr th:only-of-type {\n",
       "        vertical-align: middle;\n",
       "    }\n",
       "\n",
       "    .dataframe tbody tr th {\n",
       "        vertical-align: top;\n",
       "    }\n",
       "\n",
       "    .dataframe thead th {\n",
       "        text-align: right;\n",
       "    }\n",
       "</style>\n",
       "<table border=\"1\" class=\"dataframe\">\n",
       "  <thead>\n",
       "    <tr style=\"text-align: right;\">\n",
       "      <th></th>\n",
       "      <th>A</th>\n",
       "      <th>type</th>\n",
       "      <th>B</th>\n",
       "    </tr>\n",
       "  </thead>\n",
       "  <tbody>\n",
       "    <tr>\n",
       "      <th>0</th>\n",
       "      <td>273</td>\n",
       "      <td>pp</td>\n",
       "      <td>8867</td>\n",
       "    </tr>\n",
       "    <tr>\n",
       "      <th>1</th>\n",
       "      <td>6455</td>\n",
       "      <td>pp</td>\n",
       "      <td>8867</td>\n",
       "    </tr>\n",
       "    <tr>\n",
       "      <th>2</th>\n",
       "      <td>1759</td>\n",
       "      <td>pp</td>\n",
       "      <td>273</td>\n",
       "    </tr>\n",
       "    <tr>\n",
       "      <th>3</th>\n",
       "      <td>1759</td>\n",
       "      <td>pp</td>\n",
       "      <td>6455</td>\n",
       "    </tr>\n",
       "    <tr>\n",
       "      <th>4</th>\n",
       "      <td>1785</td>\n",
       "      <td>pp</td>\n",
       "      <td>6455</td>\n",
       "    </tr>\n",
       "  </tbody>\n",
       "</table>\n",
       "</div>"
      ],
      "text/plain": [
       "      A type     B\n",
       "0   273   pp  8867\n",
       "1  6455   pp  8867\n",
       "2  1759   pp   273\n",
       "3  1759   pp  6455\n",
       "4  1785   pp  6455"
      ]
     },
     "execution_count": 13,
     "metadata": {},
     "output_type": "execute_result"
    }
   ],
   "source": [
    "rowlist = []\n",
    "rows = []\n",
    "# PPI_df = pd.DataFrame(columns=['A','type','B'])\n",
    "\n",
    "for i, row in PPI_data.iterrows():\n",
    "    if(str(row['entA']) in Proteins.values):\n",
    "        if(str(row['entB']) in Proteins.values):\n",
    "            rowlist.append(i)\n",
    "            singlerow = {\n",
    "                'A': row['entA'],\n",
    "                'type': 'pp',\n",
    "                'B': row['entB']\n",
    "            }\n",
    "            rows.append(singlerow)\n",
    "            \n",
    "PPI_df = pd.DataFrame(rows,columns=['A','type','B'])\n",
    "PPI_df.head()\n",
    "# print(rowlist)"
   ]
  },
  {
   "cell_type": "code",
   "execution_count": 16,
   "metadata": {},
   "outputs": [
    {
     "name": "stdout",
     "output_type": "stream",
     "text": [
      "7837\n",
      "7837\n",
      "7837.0\n"
     ]
    }
   ],
   "source": [
    "print(len(rowlist))\n",
    "print(len(rows))\n",
    "print(PPI_df.size/3)"
   ]
  },
  {
   "cell_type": "code",
   "execution_count": 20,
   "metadata": {},
   "outputs": [
    {
     "name": "stdout",
     "output_type": "stream",
     "text": [
      "3561.0\n"
     ]
    }
   ],
   "source": [
    "PPI_df = PPI_df.drop_duplicates()\n",
    "print(PPI_df.size/3)"
   ]
  },
  {
   "cell_type": "code",
   "execution_count": 65,
   "metadata": {},
   "outputs": [
    {
     "data": {
      "text/plain": [
       "1321"
      ]
     },
     "execution_count": 65,
     "metadata": {},
     "output_type": "execute_result"
    }
   ],
   "source": [
    "gra = nx.Graph()\n",
    "Proteinslist = Proteins.tolist()\n",
    "\n",
    "edges = []\n",
    "\n",
    "for i, row in PPI_df.iterrows():\n",
    "    edges.append((row['A'],row['B']))\n",
    "#     if(row['A'] == row['B']):\n",
    "#         print(row['A'])\n",
    "    \n",
    "# print(edges)\n",
    "\n",
    "gra.add_edges_from(edges)\n",
    "\n",
    "gra.number_of_nodes()\n",
    "# print(gra.number_of_edges())\n",
    "# len(PPI_df['A'].unique())\n",
    "# len(PPI_df['B'].unique())\n",
    "\n",
    "\n",
    "# graphs = list(nx.connected_component_subgraphs(gra))\n",
    "# # print(graphs)\n",
    "\n",
    "# print(graphs[0].number_of_nodes())\n",
    "# nx.draw_networkx(graphs[2])\n",
    "# plt.show()"
   ]
  },
  {
   "cell_type": "code",
   "execution_count": 67,
   "metadata": {},
   "outputs": [
    {
     "name": "stdout",
     "output_type": "stream",
     "text": [
      "7837\n",
      "3561\n"
     ]
    }
   ],
   "source": [
    "print(len(rowlist))\n",
    "\n",
    "PPI_list = PPI_data.loc[rowlist]\n",
    "\n",
    "PPI_list_unique = PPI_list.drop_duplicates()\n",
    "print(len(PPI_list_unique))\n",
    "PPI_list_unique.head()\n",
    "\n",
    "PPI_list.to_csv('PPI_List.csv',index=False)\n",
    "PPI_list_unique.to_csv('PPI_List_Unique.csv',index=False)"
   ]
  },
  {
   "cell_type": "code",
   "execution_count": 38,
   "metadata": {},
   "outputs": [
    {
     "name": "stdout",
     "output_type": "stream",
     "text": [
      "270993\n",
      "128921\n"
     ]
    }
   ],
   "source": [
    "print(len(PPI_data))\n",
    "PPI_data_un = PPI_data.drop_duplicates()\n",
    "print(len(PPI_data_un))\n",
    "\n",
    "\n",
    "rowlist2 = []\n",
    "\n",
    "for i, row in PPI_data_un.iterrows():\n",
    "    if(row['entA'] in Proteins.values):\n",
    "        if(row['entB'] in Proteins.values):\n",
    "            rowlist.append(i)\n",
    "#     print(row['entA'],row['entB'])\n",
    "print(rowlist)"
   ]
  }
 ],
 "metadata": {
  "kernelspec": {
   "display_name": "finalproject",
   "language": "python",
   "name": "finalproject"
  },
  "language_info": {
   "codemirror_mode": {
    "name": "ipython",
    "version": 3
   },
   "file_extension": ".py",
   "mimetype": "text/x-python",
   "name": "python",
   "nbconvert_exporter": "python",
   "pygments_lexer": "ipython3",
   "version": "3.7.3"
  }
 },
 "nbformat": 4,
 "nbformat_minor": 2
}
