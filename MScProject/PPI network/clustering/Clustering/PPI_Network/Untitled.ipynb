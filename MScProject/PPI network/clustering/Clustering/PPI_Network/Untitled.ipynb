{
 "cells": [
  {
   "cell_type": "code",
   "execution_count": 35,
   "metadata": {
    "scrolled": true
   },
   "outputs": [
    {
     "name": "stdout",
     "output_type": "stream",
     "text": [
      "[['#communities' '']\n",
      " ['18' '2']\n",
      " ['273' '2']\n",
      " ...\n",
      " ['25813' '68']\n",
      " ['54927' '68']\n",
      " ['84303' '68']]\n"
     ]
    }
   ],
   "source": [
    "# # import csv\n",
    "# import numpy as np\n",
    "# import pandas as pd\n",
    "\n",
    "# # with open('Geodesic_communities.csv', 'rb')\n",
    "\n",
    "# # f\n",
    "\n",
    "# file = open(\"Geodesic_communities.txt\",\"r\")\n",
    "\n",
    "# file_contents = file.read()\n",
    "\n",
    "# # print(file_contents)\n",
    "\n",
    "# file.close()\n",
    "\n",
    "# stuff = np.array([['#communities', '']])\n",
    "\n",
    "# for line in open(\"Geodesic_communities.txt\",\"r\"):\n",
    "#     li = line.strip()\n",
    "#     if not li.startswith('#'):\n",
    "#         cols = (line.rstrip()).split()\n",
    "#         stuff = np.append(stuff,[[cols[0],cols[1]]],axis=0)\n",
    "# #         print(cols)\n",
    "\n",
    "# print(stuff)\n",
    "\n",
    "# pd.DataFrame(stuff).to_csv('Geodesicdiff_communities.csv',header=None, sep='\\t',index=False)\n",
    "\n"
   ]
  },
  {
   "cell_type": "markdown",
   "metadata": {},
   "source": [
    "# checking the number of clusters and their sizes and stuff"
   ]
  },
  {
   "cell_type": "code",
   "execution_count": 2,
   "metadata": {},
   "outputs": [
    {
     "name": "stdout",
     "output_type": "stream",
     "text": [
      "91\n"
     ]
    },
    {
     "data": {
      "text/plain": [
       "44    36\n",
       "37    33\n",
       "54    28\n",
       "19    27\n",
       "34    27\n",
       "68    27\n",
       "36    25\n",
       "42    24\n",
       "60    24\n",
       "70    23\n",
       "7     22\n",
       "74    22\n",
       "33    22\n",
       "83    22\n",
       "56    21\n",
       "23    19\n",
       "47    18\n",
       "24    18\n",
       "32    18\n",
       "12    18\n",
       "69    18\n",
       "78    18\n",
       "84    18\n",
       "75    17\n",
       "87    17\n",
       "40    17\n",
       "1     17\n",
       "6     17\n",
       "16    16\n",
       "21    16\n",
       "      ..\n",
       "90    10\n",
       "88    10\n",
       "50    10\n",
       "28    10\n",
       "20    10\n",
       "64    10\n",
       "43     9\n",
       "49     9\n",
       "91     8\n",
       "89     8\n",
       "30     8\n",
       "39     8\n",
       "26     8\n",
       "57     8\n",
       "22     7\n",
       "73     7\n",
       "38     7\n",
       "9      7\n",
       "72     6\n",
       "15     6\n",
       "29     5\n",
       "48     4\n",
       "41     4\n",
       "17     4\n",
       "27     4\n",
       "45     3\n",
       "5      3\n",
       "18     3\n",
       "77     3\n",
       "46     3\n",
       "Length: 91, dtype: int64"
      ]
     },
     "execution_count": 2,
     "metadata": {},
     "output_type": "execute_result"
    }
   ],
   "source": [
    "import numpy as np\n",
    "import pandas as pd\n",
    "\n",
    "#order: spectral 18 12\n",
    "#fc 2\n",
    "#louvain 2\n",
    "\n",
    "fc_2 = pd.read_csv('sgG5_communities.csv',skiprows=1,sep='\\t',header=None)\n",
    "\n",
    "# print(fc_2.columns)\n",
    "fc_2_coms = fc_2[1].values\n",
    "# print(fc_2_coms)\n",
    "\n",
    "print(len(list(set(fc_2_coms))))\n",
    "pd.Series(fc_2_coms).value_counts()"
   ]
  },
  {
   "cell_type": "code",
   "execution_count": 15,
   "metadata": {},
   "outputs": [
    {
     "name": "stdout",
     "output_type": "stream",
     "text": [
      "25\n"
     ]
    },
    {
     "data": {
      "text/plain": [
       "9     108\n",
       "4     103\n",
       "14    101\n",
       "12     83\n",
       "11     73\n",
       "3      69\n",
       "7      67\n",
       "13     65\n",
       "6      61\n",
       "15     61\n",
       "2      60\n",
       "16     54\n",
       "8      45\n",
       "10     42\n",
       "5      39\n",
       "1      37\n",
       "17     33\n",
       "20     26\n",
       "18     23\n",
       "21     23\n",
       "25     23\n",
       "23     21\n",
       "19     12\n",
       "24     11\n",
       "22      3\n",
       "dtype: int64"
      ]
     },
     "execution_count": 15,
     "metadata": {},
     "output_type": "execute_result"
    }
   ],
   "source": [
    "lou_2 = pd.read_csv('louvain_2_communities.csv',skiprows=1,sep='\\t',header=None)\n",
    "\n",
    "# print(fc_2.columns)\n",
    "lou_2_coms = lou_2[1].values\n",
    "# print(fc_2_coms)\n",
    "\n",
    "print(len(list(set(lou_2_coms))))\n",
    "pd.Series(lou_2_coms).value_counts()"
   ]
  },
  {
   "cell_type": "code",
   "execution_count": 3,
   "metadata": {},
   "outputs": [
    {
     "name": "stdout",
     "output_type": "stream",
     "text": [
      "50\n"
     ]
    },
    {
     "data": {
      "text/plain": [
       "4     73\n",
       "48    62\n",
       "10    58\n",
       "36    49\n",
       "11    46\n",
       "29    42\n",
       "37    37\n",
       "3     35\n",
       "38    35\n",
       "41    34\n",
       "49    33\n",
       "45    33\n",
       "26    29\n",
       "50    28\n",
       "42    28\n",
       "46    26\n",
       "18    25\n",
       "7     24\n",
       "43    23\n",
       "13    23\n",
       "2     22\n",
       "5     22\n",
       "1     22\n",
       "31    21\n",
       "6     21\n",
       "12    20\n",
       "39    20\n",
       "25    19\n",
       "44    18\n",
       "40    18\n",
       "21    18\n",
       "9     18\n",
       "47    17\n",
       "20    17\n",
       "15    17\n",
       "23    16\n",
       "17    16\n",
       "8     16\n",
       "27    15\n",
       "34    14\n",
       "16    14\n",
       "24    14\n",
       "30    14\n",
       "14    14\n",
       "33    13\n",
       "32    13\n",
       "35    13\n",
       "19    13\n",
       "22    13\n",
       "28    12\n",
       "dtype: int64"
      ]
     },
     "execution_count": 3,
     "metadata": {},
     "output_type": "execute_result"
    }
   ],
   "source": [
    "spec18_2 = pd.read_csv('spectral_communities_cmin1.csv',skiprows=1,sep='\\t',header=None)\n",
    "\n",
    "# print(fc_2.columns)\n",
    "spec18_2_coms = spec18_2[1].values\n",
    "# print(fc_2_coms)\n",
    "\n",
    "print(len(list(set(spec18_2_coms))))\n",
    "pd.Series(spec18_2_coms).value_counts()"
   ]
  },
  {
   "cell_type": "code",
   "execution_count": 4,
   "metadata": {},
   "outputs": [
    {
     "name": "stdout",
     "output_type": "stream",
     "text": [
      "53\n"
     ]
    },
    {
     "data": {
      "text/plain": [
       "48    62\n",
       "10    58\n",
       "36    49\n",
       "11    46\n",
       "29    42\n",
       "37    37\n",
       "38    35\n",
       "4     35\n",
       "41    34\n",
       "49    33\n",
       "45    33\n",
       "52    30\n",
       "26    29\n",
       "42    28\n",
       "50    28\n",
       "46    26\n",
       "18    25\n",
       "7     24\n",
       "13    23\n",
       "53    23\n",
       "43    23\n",
       "3     22\n",
       "2     22\n",
       "5     22\n",
       "31    21\n",
       "6     21\n",
       "12    20\n",
       "39    20\n",
       "25    19\n",
       "51    19\n",
       "40    18\n",
       "9     18\n",
       "21    18\n",
       "44    18\n",
       "20    17\n",
       "47    17\n",
       "15    17\n",
       "8     16\n",
       "17    16\n",
       "23    16\n",
       "27    15\n",
       "14    14\n",
       "16    14\n",
       "24    14\n",
       "30    14\n",
       "34    14\n",
       "19    13\n",
       "22    13\n",
       "32    13\n",
       "33    13\n",
       "35    13\n",
       "28    12\n",
       "1      1\n",
       "dtype: int64"
      ]
     },
     "execution_count": 4,
     "metadata": {},
     "output_type": "execute_result"
    }
   ],
   "source": [
    "# spectral_communities_cmin18.645.csv\n",
    "\n",
    "spec12_2 = pd.read_csv('Spectral1per_2_communities_cnmax5.csv',skiprows=1,sep='\\t',header=None)\n",
    "\n",
    "# print(fc_2.columns)\n",
    "spec12_2_coms = spec12_2[1].values\n",
    "# print(fc_2_coms)\n",
    "\n",
    "print(len(list(set(spec12_2_coms))))\n",
    "pd.Series(spec12_2_coms).value_counts()"
   ]
  }
 ],
 "metadata": {
  "kernelspec": {
   "display_name": "Python 3",
   "language": "python",
   "name": "python3"
  },
  "language_info": {
   "codemirror_mode": {
    "name": "ipython",
    "version": 3
   },
   "file_extension": ".py",
   "mimetype": "text/x-python",
   "name": "python",
   "nbconvert_exporter": "python",
   "pygments_lexer": "ipython3",
   "version": "3.6.8"
  }
 },
 "nbformat": 4,
 "nbformat_minor": 2
}
